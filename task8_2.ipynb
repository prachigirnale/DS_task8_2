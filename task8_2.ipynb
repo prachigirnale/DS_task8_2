{
 "cells": [
  {
   "cell_type": "code",
   "execution_count": 1,
   "metadata": {},
   "outputs": [],
   "source": [
    "from bs4 import BeautifulSoup as bs\n",
    "import requests as rq\n",
    "qurl = 'https://books.toscrape.com/'\n",
    "qhead = {\n",
    "    'user-agent' : 'Mozilla/5.0 (Windows NT 10.0; Win64; x64) AppleWebKit/537.36 (KHTML, like Gecko) Chrome/128.0.0.0 Safari/537.36'\n",
    "}"
   ]
  },
  {
   "cell_type": "code",
   "execution_count": 2,
   "metadata": {},
   "outputs": [],
   "source": [
    "qresp = rq.get(url=qurl, headers=qhead)"
   ]
  },
  {
   "cell_type": "code",
   "execution_count": 3,
   "metadata": {},
   "outputs": [],
   "source": [
    "bsoup = bs(qresp._content , 'html.parser')"
   ]
  },
  {
   "cell_type": "code",
   "execution_count": 4,
   "metadata": {},
   "outputs": [],
   "source": [
    "costs = bsoup.find_all('p', attrs={\"class\" : \"price_color\"})"
   ]
  },
  {
   "cell_type": "code",
   "execution_count": 12,
   "metadata": {},
   "outputs": [],
   "source": [
    "soap = bsoup.find_all('li',attrs= {\"class\" : \"col-xs-6 col-sm-4 col-md-3 col-lg-3\"}) "
   ]
  },
  {
   "cell_type": "code",
   "execution_count": 13,
   "metadata": {},
   "outputs": [],
   "source": [
    "all_data = []\n",
    "for data in soap:\n",
    "    books = data.find('h3')\n",
    "    prices = data.find('p', attrs={\"class\" : \"price_color\"})\n",
    "    ratings = data.find('p', attrs= {\"class\" : \"star-rating\"})\n",
    "\n",
    "    books_data = {\n",
    "           'book' : books.text , \n",
    "           'price' : prices.text,\n",
    "           'rating' : ratings.attrs['class'][1]\n",
    "    }\n",
    "    all_data.append(books_data)"
   ]
  },
  {
   "cell_type": "code",
   "execution_count": 14,
   "metadata": {},
   "outputs": [
    {
     "name": "stdout",
     "output_type": "stream",
     "text": [
      "[{'book': 'A Light in the ...', 'price': '£51.77', 'rating': 'Three'}, {'book': 'Tipping the Velvet', 'price': '£53.74', 'rating': 'One'}, {'book': 'Soumission', 'price': '£50.10', 'rating': 'One'}, {'book': 'Sharp Objects', 'price': '£47.82', 'rating': 'Four'}, {'book': 'Sapiens: A Brief History ...', 'price': '£54.23', 'rating': 'Five'}, {'book': 'The Requiem Red', 'price': '£22.65', 'rating': 'One'}, {'book': 'The Dirty Little Secrets ...', 'price': '£33.34', 'rating': 'Four'}, {'book': 'The Coming Woman: A ...', 'price': '£17.93', 'rating': 'Three'}, {'book': 'The Boys in the ...', 'price': '£22.60', 'rating': 'Four'}, {'book': 'The Black Maria', 'price': '£52.15', 'rating': 'One'}, {'book': 'Starving Hearts (Triangular Trade ...', 'price': '£13.99', 'rating': 'Two'}, {'book': \"Shakespeare's Sonnets\", 'price': '£20.66', 'rating': 'Four'}, {'book': 'Set Me Free', 'price': '£17.46', 'rating': 'Five'}, {'book': \"Scott Pilgrim's Precious Little ...\", 'price': '£52.29', 'rating': 'Five'}, {'book': 'Rip it Up and ...', 'price': '£35.02', 'rating': 'Five'}, {'book': 'Our Band Could Be ...', 'price': '£57.25', 'rating': 'Three'}, {'book': 'Olio', 'price': '£23.88', 'rating': 'One'}, {'book': 'Mesaerion: The Best Science ...', 'price': '£37.59', 'rating': 'One'}, {'book': 'Libertarianism for Beginners', 'price': '£51.33', 'rating': 'Two'}, {'book': \"It's Only the Himalayas\", 'price': '£45.17', 'rating': 'Two'}]\n"
     ]
    }
   ],
   "source": [
    "print(all_data)"
   ]
  },
  {
   "cell_type": "code",
   "execution_count": 15,
   "metadata": {},
   "outputs": [],
   "source": [
    "import pandas as pd"
   ]
  },
  {
   "cell_type": "code",
   "execution_count": 16,
   "metadata": {},
   "outputs": [],
   "source": [
    "dpd = pd.DataFrame(all_data)"
   ]
  },
  {
   "cell_type": "code",
   "execution_count": 17,
   "metadata": {},
   "outputs": [],
   "source": [
    "dpd.to_csv('books.csv')"
   ]
  }
 ],
 "metadata": {
  "kernelspec": {
   "display_name": "base",
   "language": "python",
   "name": "python3"
  },
  "language_info": {
   "codemirror_mode": {
    "name": "ipython",
    "version": 3
   },
   "file_extension": ".py",
   "mimetype": "text/x-python",
   "name": "python",
   "nbconvert_exporter": "python",
   "pygments_lexer": "ipython3",
   "version": "3.12.4"
  }
 },
 "nbformat": 4,
 "nbformat_minor": 2
}
